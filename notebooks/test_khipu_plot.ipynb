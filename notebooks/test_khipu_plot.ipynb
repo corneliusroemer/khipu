{
 "cells": [
  {
   "cell_type": "markdown",
   "metadata": {},
   "source": [
    "# Demo of khipu\n",
    "\n",
    "This notebook is run on $docker run -v /Users/shuzhao/play:/home/jovyan -p 8888:8888 jupyter/scipy-notebook\n",
    "\n",
    "Shuzhao Li, 2022-12-15"
   ]
  },
  {
   "cell_type": "code",
   "execution_count": 1,
   "metadata": {},
   "outputs": [
    {
     "name": "stdout",
     "output_type": "stream",
     "text": [
      "Collecting khipu-metabolomics\n",
      "  Downloading https://files.pythonhosted.org/packages/a8/f8/1d283824e31d4b68d5e235e10132f485c7b3a3a1b7fb1903af3e0b53c1c9/khipu_metabolomics-0.3.4-py3-none-any.whl\n",
      "Requirement already satisfied, skipping upgrade: networkx in /opt/conda/lib/python3.7/site-packages (from khipu-metabolomics) (2.3)\n",
      "Requirement already satisfied, skipping upgrade: treelib in /opt/conda/lib/python3.7/site-packages (from khipu-metabolomics) (1.6.1)\n",
      "Requirement already satisfied, skipping upgrade: mass2chem in /opt/conda/lib/python3.7/site-packages (from khipu-metabolomics) (0.4.1)\n",
      "Requirement already satisfied, skipping upgrade: decorator>=4.3.0 in /opt/conda/lib/python3.7/site-packages (from networkx->khipu-metabolomics) (4.4.0)\n",
      "Requirement already satisfied, skipping upgrade: future in /opt/conda/lib/python3.7/site-packages (from treelib->khipu-metabolomics) (0.18.2)\n",
      "Requirement already satisfied, skipping upgrade: numpy in /opt/conda/lib/python3.7/site-packages (from mass2chem->khipu-metabolomics) (1.17.2)\n",
      "Requirement already satisfied, skipping upgrade: scipy in /opt/conda/lib/python3.7/site-packages (from mass2chem->khipu-metabolomics) (1.3.1)\n",
      "Installing collected packages: khipu-metabolomics\n",
      "  Found existing installation: khipu-metabolomics 0.3.3\n",
      "    Uninstalling khipu-metabolomics-0.3.3:\n",
      "      Successfully uninstalled khipu-metabolomics-0.3.3\n",
      "Successfully installed khipu-metabolomics-0.3.4\n"
     ]
    }
   ],
   "source": [
    "!pip install --upgrade khipu-metabolomics"
   ]
  },
  {
   "cell_type": "code",
   "execution_count": 2,
   "metadata": {},
   "outputs": [],
   "source": [
    "import matplotlib.pyplot as plt\n",
    "from khipu.test import *"
   ]
  },
  {
   "cell_type": "code",
   "execution_count": 3,
   "metadata": {},
   "outputs": [
    {
     "name": "stdout",
     "output_type": "stream",
     "text": [
      "['In', 'Out', 'add_data_to_tag', 'adduct_search_patterns', 'adduct_search_patterns_neg', 'assign_masstrack_ids_in_khipu', 'build_centurion_tree', 'exit', 'export_empCpd_khipu_list', 'export_json_khipu_list', 'export_json_trees', 'export_tsv_trees', 'extend_khipu_list', 'extended_adducts', 'find_all_matches_centurion_indexed_list', 'find_trees_by_datatag', 'find_trees_by_datatag_list', 'get_adduct_edge_pairs', 'get_ipython', 'get_isotope_pattern_name', 'get_isotopic_edge_pairs', 'is_datatag_in_tree', 'isotope_search_patterns', 'json', 'khipu', 'khipu_annotate', 'khipu_diagnosis', 'make_edge_tag', 'make_peak_dict', 'make_peak_tag', 'np', 'nx', 'pd', 'peak_dict_to_khipu_list', 'peaks_to_networks', 'plt', 'quit', 'read_features_from_text', 'realign_isotopes', 'realign_isotopes_reverse', 'rt_compared_by_values', 'rt_matched_by_tolerance', 'test_read_file', 'test_read_url', 'treelib', 'urllib']\n"
     ]
    }
   ],
   "source": [
    "# Variables imported\n",
    "print([x for x in dir() if x[0] != '_'])"
   ]
  },
  {
   "cell_type": "code",
   "execution_count": 4,
   "metadata": {},
   "outputs": [
    {
     "name": "stdout",
     "output_type": "stream",
     "text": [
      "Retrieving test data from GitHub.\n",
      "table headers ordered:  mz rtime\n",
      "Read 4016 feature lines\n",
      "681 4016\n"
     ]
    }
   ],
   "source": [
    "# Read test feature table into khipu package\n",
    "\n",
    "subnetworks, peak_dict, edge_dict = test_read_url()\n",
    "\n",
    "print(len(subnetworks), len(peak_dict))"
   ]
  },
  {
   "cell_type": "code",
   "execution_count": 5,
   "metadata": {},
   "outputs": [
    {
     "name": "stdout",
     "output_type": "stream",
     "text": [
      "[('F56', {'id': 'F56', 'mz': 119.0725, 'rtime': 151.44, 'intensities': [526144.0, 0.0, 0.0, 0.0], 'representative_intensity': 131536.0}), ('F57', {'id': 'F57', 'mz': 119.0834, 'rtime': 128.05, 'intensities': [469938.0, 0.0, 681936.0, 288568.0], 'representative_intensity': 360110.5})]\n"
     ]
    }
   ],
   "source": [
    "# Have a look at peak data structure\n",
    "\n",
    "print(list(peak_dict.items())[55:57])"
   ]
  },
  {
   "cell_type": "code",
   "execution_count": 6,
   "metadata": {},
   "outputs": [
    {
     "name": "stdout",
     "output_type": "stream",
     "text": [
      "[(1.003355, '13C/12C', (0, 0.8)), (2.00671, '13C/12C*2', (0, 0.8)), (3.010065, '13C/12C*3', (0, 0.8)), (4.01342, '13C/12C*4', (0, 0.8)), (5.016775, '13C/12C*5', (0, 0.8)), (6.02013, '13C/12C*6', (0, 0.8)), (7.023485, '13C/12C*7', (0, 0.8)), (8.02684, '13C/12C*8', (0, 0.8)), (9.030195, '13C/12C*9', (0, 0.8)), (10.03355, '13C/12C*10', (0, 0.8)), (11.036905, '13C/12C*11', (0, 0.8)), (12.04026, '13C/12C*12', (0, 0.8))]\n",
      "[(21.982, 'Na/H'), (41.026549, 'Acetonitrile'), (17.02655, 'NH3'), (35.9767, 'HCl'), (37.955882, 'K/H')]\n"
     ]
    }
   ],
   "source": [
    "# Have a look at default ion patterns\n",
    "\n",
    "print(isotope_search_patterns)\n",
    "\n",
    "print(adduct_search_patterns)"
   ]
  },
  {
   "cell_type": "code",
   "execution_count": 7,
   "metadata": {},
   "outputs": [
    {
     "data": {
      "text/plain": [
       "(array([504., 104.,  36.,  13.,   7.,  10.,   6.]),\n",
       " array([ 2,  4,  6,  8, 10, 12, 20, 30]),\n",
       " <a list of 7 Patch objects>)"
      ]
     },
     "execution_count": 7,
     "metadata": {},
     "output_type": "execute_result"
    },
    {
     "data": {
      "image/png": "[encoded data removed]",
      "text/plain": [
       "<Figure size 432x288 with 1 Axes>"
      ]
     },
     "metadata": {
      "needs_background": "light"
     },
     "output_type": "display_data"
    }
   ],
   "source": [
    "# distribution of input network sizes\n",
    "\n",
    "sizes = [n.number_of_nodes() for n in subnetworks]\n",
    "plt.hist(sizes, bins=[2, 4, 6, 8, 10, 12, 20, 30])"
   ]
  },
  {
   "cell_type": "code",
   "execution_count": 8,
   "metadata": {},
   "outputs": [
    {
     "name": "stdout",
     "output_type": "stream",
     "text": [
      "0 2\n",
      "1 3\n",
      "2 3\n",
      "3 16\n",
      "4 3\n",
      "5 4\n",
      "6 4\n",
      "7 21\n",
      "8 4\n",
      "9 7\n",
      "10 13\n",
      "11 24\n",
      "12 13\n",
      "13 4\n",
      "14 20\n",
      "15 3\n",
      "16 5\n",
      "17 3\n",
      "18 5\n",
      "19 2\n"
     ]
    }
   ],
   "source": [
    "# choose one group to build demo khipu\n",
    "for ii in range(20):\n",
    "    print(ii, sizes[ii])"
   ]
  },
  {
   "cell_type": "code",
   "execution_count": 9,
   "metadata": {},
   "outputs": [
    {
     "data": {
      "text/plain": [
       "EdgeView([('F1364', 'F773'), ('F1364', 'F774'), ('F1364', 'F396'), ('F874', 'F807'), ('F874', 'F808'), ('F874', 'F172'), ('F874', 'F207'), ('F3398', 'F194'), ('F3398', 'F195'), ('F3398', 'F396'), ('F3930', 'F481'), ('F3930', 'F807'), ('F3930', 'F808'), ('F3271', 'F20'), ('F3271', 'F53'), ('F3271', 'F254'), ('F3271', 'F396'), ('F3271', 'F562'), ('F808', 'F172'), ('F808', 'F207'), ('F808', 'F20'), ('F808', 'F3931'), ('F807', 'F172'), ('F807', 'F207'), ('F807', 'F20'), ('F807', 'F3931'), ('F562', 'F20'), ('F562', 'F254'), ('F562', 'F396'), ('F562', 'F3272'), ('F396', 'F20'), ('F396', 'F254'), ('F396', 'F3272'), ('F172', 'F207'), ('F195', 'F20'), ('F207', 'F481'), ('F481', 'F3931'), ('F3272', 'F20'), ('F3272', 'F254'), ('F194', 'F20'), ('F20', 'F53'), ('F20', 'F254')])"
      ]
     },
     "execution_count": 9,
     "metadata": {},
     "output_type": "execute_result"
    }
   ],
   "source": [
    "# subnetworks will have different numbers in each run. Here we choose a larger one for demo\n",
    "subnetworks[7].edges()"
   ]
  },
  {
   "cell_type": "code",
   "execution_count": 10,
   "metadata": {},
   "outputs": [],
   "source": [
    "# Build khipu. The khipu_diagnosis class has a few extra functions than khipu main class\n",
    "\n",
    "KP = khipu_diagnosis(subnetworks[7], isotope_search_patterns, adduct_search_patterns)\n",
    "KP.build_khipu(peak_dict)\n"
   ]
  },
  {
   "cell_type": "code",
   "execution_count": 11,
   "metadata": {},
   "outputs": [
    {
     "name": "stdout",
     "output_type": "stream",
     "text": [
      "nodes_to_use:  ['F1364', 'F874', 'F3398', 'F3931', 'F3271', 'F808', 'F774', 'F562', 'F396', 'F172', 'F195', 'F207', 'F481', 'F20', 'F254', 'F53']\n",
      "redundant_nodes:  ['F3930', 'F3272', 'F807', 'F773', 'F194', 'F3931', 'F481']\n"
     ]
    }
   ],
   "source": [
    "# Redundant features are set aside during khipu construction\n",
    "KP.show_trimming()"
   ]
  },
  {
   "cell_type": "code",
   "execution_count": 12,
   "metadata": {},
   "outputs": [
    {
     "name": "stdout",
     "output_type": "stream",
     "text": [
      "Minimal khipu tree: \n",
      "77.0386@110.8\n",
      "└── 83.0591@109.9\n",
      "    └── 124.0851@110.6\n",
      "        ├── 123.082@110.2\n",
      "        │   ├── 118.0652@109.9\n",
      "        │   │   └── 159.0917@110.4\n",
      "        │   │       ├── 142.0653@110.4\n",
      "        │   │       └── 160.0952@110.4\n",
      "        │   │           ├── 168.1219@110.6\n",
      "        │   │           └── 169.1253@110.6\n",
      "        │   │               └── 152.0988@109.9\n",
      "        │   ├── 119.0685@109.2\n",
      "        │   ├── 122.0786@110.6\n",
      "        │   └── 126.0922@110.4\n",
      "        └── 141.111@110.6\n",
      "            └── 132.0809@110.4\n",
      "\n"
     ]
    }
   ],
   "source": [
    "# minimal tree view of the edges\n",
    "KP.build_diagnostic_tree_clean()"
   ]
  },
  {
   "cell_type": "code",
   "execution_count": 13,
   "metadata": {},
   "outputs": [
    {
     "name": "stdout",
     "output_type": "stream",
     "text": [
      "               B2 B2+Acetonitrile B3+NH3 B4+NH3\n",
      "M0           F195             F20   F774   F808\n",
      "13C/12C                       F53          F874\n",
      "13C/12C*2                                      \n",
      "13C/12C*3                                      \n",
      "13C/12C*4                    F254              \n",
      "13C/12C*5                   F3271              \n",
      "13C/12C*6   F3398            F396  F1364       \n",
      "13C/12C*7                                      \n",
      "13C/12C*8                    F562              \n",
      "13C/12C*9                                  F172\n",
      "13C/12C*10                                 F207\n",
      "13C/12C*11                                     \n",
      "13C/12C*12                                     \n"
     ]
    }
   ],
   "source": [
    "# the khipu in grid view\n",
    "KP.print()"
   ]
  },
  {
   "cell_type": "code",
   "execution_count": 14,
   "metadata": {},
   "outputs": [
    {
     "name": "stdout",
     "output_type": "stream",
     "text": [
      "                   M0 13C/12C 13C/12C*2 13C/12C*3 13C/12C*4 13C/12C*5  \\\n",
      "B2               F195                                                   \n",
      "B2+Acetonitrile   F20     F53                          F254     F3271   \n",
      "B3+NH3           F774                                                   \n",
      "B4+NH3           F808    F874                                           \n",
      "\n",
      "                13C/12C*6 13C/12C*7 13C/12C*8 13C/12C*9 13C/12C*10 13C/12C*11  \\\n",
      "B2                  F3398                                                       \n",
      "B2+Acetonitrile      F396                F562                                   \n",
      "B3+NH3              F1364                                                       \n",
      "B4+NH3                                             F172       F207              \n",
      "\n",
      "                13C/12C*12  \n",
      "B2                          \n",
      "B2+Acetonitrile             \n",
      "B3+NH3                      \n",
      "B4+NH3                      \n"
     ]
    }
   ],
   "source": [
    "# rotated view\n",
    "KP.print2()"
   ]
  },
  {
   "cell_type": "code",
   "execution_count": 15,
   "metadata": {},
   "outputs": [],
   "source": [
    "# This dataset have compounds that are 13C-glucose labelled\n",
    "# Look at another compound\n",
    "# KP = khipu_diagnosis(subnetworks[10], isotope_search_patterns, adduct_search_patterns)\n",
    "# KP.build_khipu(peak_dict)\n"
   ]
  },
  {
   "cell_type": "code",
   "execution_count": 16,
   "metadata": {},
   "outputs": [
    {
     "name": "stdout",
     "output_type": "stream",
     "text": [
      "Minimal khipu tree: \n",
      "77.0386@110.8\n",
      "└── 83.0591@109.9\n",
      "    └── 124.0851@110.6\n",
      "        ├── 123.082@110.2\n",
      "        │   ├── 118.0652@109.9\n",
      "        │   │   └── 159.0917@110.4\n",
      "        │   │       ├── 142.0653@110.4\n",
      "        │   │       └── 160.0952@110.4\n",
      "        │   │           ├── 168.1219@110.6\n",
      "        │   │           └── 169.1253@110.6\n",
      "        │   │               └── 152.0988@109.9\n",
      "        │   ├── 119.0685@109.2\n",
      "        │   ├── 122.0786@110.6\n",
      "        │   └── 126.0922@110.4\n",
      "        └── 141.111@110.6\n",
      "            └── 132.0809@110.4\n",
      "\n"
     ]
    }
   ],
   "source": [
    "KP.build_diagnostic_tree_clean()"
   ]
  },
  {
   "cell_type": "code",
   "execution_count": 17,
   "metadata": {},
   "outputs": [
    {
     "name": "stdout",
     "output_type": "stream",
     "text": [
      "               B2 B2+Acetonitrile B3+NH3 B4+NH3\n",
      "M0           F195             F20   F774   F808\n",
      "13C/12C                       F53          F874\n",
      "13C/12C*2                                      \n",
      "13C/12C*3                                      \n",
      "13C/12C*4                    F254              \n",
      "13C/12C*5                   F3271              \n",
      "13C/12C*6   F3398            F396  F1364       \n",
      "13C/12C*7                                      \n",
      "13C/12C*8                    F562              \n",
      "13C/12C*9                                  F172\n",
      "13C/12C*10                                 F207\n",
      "13C/12C*11                                     \n",
      "13C/12C*12                                     \n"
     ]
    }
   ],
   "source": [
    "# view via simple text, compatible with terminals\n",
    "KP.print()"
   ]
  },
  {
   "cell_type": "code",
   "execution_count": 18,
   "metadata": {},
   "outputs": [
    {
     "data": {
      "text/html": [
       "<div>\n",
       "<style scoped>\n",
       "    .dataframe tbody tr th:only-of-type {\n",
       "        vertical-align: middle;\n",
       "    }\n",
       "\n",
       "    .dataframe tbody tr th {\n",
       "        vertical-align: top;\n",
       "    }\n",
       "\n",
       "    .dataframe thead th {\n",
       "        text-align: right;\n",
       "    }\n",
       "</style>\n",
       "<table border=\"1\" class=\"dataframe\">\n",
       "  <thead>\n",
       "    <tr style=\"text-align: right;\">\n",
       "      <th></th>\n",
       "      <th>B2</th>\n",
       "      <th>B2+Acetonitrile</th>\n",
       "      <th>B3+NH3</th>\n",
       "      <th>B4+NH3</th>\n",
       "    </tr>\n",
       "  </thead>\n",
       "  <tbody>\n",
       "    <tr>\n",
       "      <td>M0</td>\n",
       "      <td>F195</td>\n",
       "      <td>F20</td>\n",
       "      <td>F774</td>\n",
       "      <td>F808</td>\n",
       "    </tr>\n",
       "    <tr>\n",
       "      <td>13C/12C</td>\n",
       "      <td></td>\n",
       "      <td>F53</td>\n",
       "      <td></td>\n",
       "      <td>F874</td>\n",
       "    </tr>\n",
       "    <tr>\n",
       "      <td>13C/12C*2</td>\n",
       "      <td></td>\n",
       "      <td></td>\n",
       "      <td></td>\n",
       "      <td></td>\n",
       "    </tr>\n",
       "    <tr>\n",
       "      <td>13C/12C*3</td>\n",
       "      <td></td>\n",
       "      <td></td>\n",
       "      <td></td>\n",
       "      <td></td>\n",
       "    </tr>\n",
       "    <tr>\n",
       "      <td>13C/12C*4</td>\n",
       "      <td></td>\n",
       "      <td>F254</td>\n",
       "      <td></td>\n",
       "      <td></td>\n",
       "    </tr>\n",
       "    <tr>\n",
       "      <td>13C/12C*5</td>\n",
       "      <td></td>\n",
       "      <td>F3271</td>\n",
       "      <td></td>\n",
       "      <td></td>\n",
       "    </tr>\n",
       "    <tr>\n",
       "      <td>13C/12C*6</td>\n",
       "      <td>F3398</td>\n",
       "      <td>F396</td>\n",
       "      <td>F1364</td>\n",
       "      <td></td>\n",
       "    </tr>\n",
       "    <tr>\n",
       "      <td>13C/12C*7</td>\n",
       "      <td></td>\n",
       "      <td></td>\n",
       "      <td></td>\n",
       "      <td></td>\n",
       "    </tr>\n",
       "    <tr>\n",
       "      <td>13C/12C*8</td>\n",
       "      <td></td>\n",
       "      <td>F562</td>\n",
       "      <td></td>\n",
       "      <td></td>\n",
       "    </tr>\n",
       "    <tr>\n",
       "      <td>13C/12C*9</td>\n",
       "      <td></td>\n",
       "      <td></td>\n",
       "      <td></td>\n",
       "      <td>F172</td>\n",
       "    </tr>\n",
       "    <tr>\n",
       "      <td>13C/12C*10</td>\n",
       "      <td></td>\n",
       "      <td></td>\n",
       "      <td></td>\n",
       "      <td>F207</td>\n",
       "    </tr>\n",
       "    <tr>\n",
       "      <td>13C/12C*11</td>\n",
       "      <td></td>\n",
       "      <td></td>\n",
       "      <td></td>\n",
       "      <td></td>\n",
       "    </tr>\n",
       "    <tr>\n",
       "      <td>13C/12C*12</td>\n",
       "      <td></td>\n",
       "      <td></td>\n",
       "      <td></td>\n",
       "      <td></td>\n",
       "    </tr>\n",
       "  </tbody>\n",
       "</table>\n",
       "</div>"
      ],
      "text/plain": [
       "               B2 B2+Acetonitrile B3+NH3 B4+NH3\n",
       "M0           F195             F20   F774   F808\n",
       "13C/12C                       F53          F874\n",
       "13C/12C*2                                      \n",
       "13C/12C*3                                      \n",
       "13C/12C*4                    F254              \n",
       "13C/12C*5                   F3271              \n",
       "13C/12C*6   F3398            F396  F1364       \n",
       "13C/12C*7                                      \n",
       "13C/12C*8                    F562              \n",
       "13C/12C*9                                  F172\n",
       "13C/12C*10                                 F207\n",
       "13C/12C*11                                     \n",
       "13C/12C*12                                     "
      ]
     },
     "execution_count": 18,
     "metadata": {},
     "output_type": "execute_result"
    }
   ],
   "source": [
    "# view via data frame, compatible with web browser\n",
    "KP.khipu_grid"
   ]
  },
  {
   "cell_type": "code",
   "execution_count": 19,
   "metadata": {},
   "outputs": [
    {
     "name": "stdout",
     "output_type": "stream",
     "text": [
      "Aligned khipu tree: \n",
      "76\n",
      "├── B0\n",
      "│   ├── 132.0809@110.4\n",
      "│   └── 141.111@110.6\n",
      "├── B1\n",
      "│   ├── 159.0917@110.4\n",
      "│   ├── 160.0952@110.4\n",
      "│   ├── 168.1219@110.6\n",
      "│   └── 169.1253@110.6\n",
      "├── B2\n",
      "│   ├── 77.0386@110.8\n",
      "│   └── 83.0591@109.9\n",
      "└── B3\n",
      "    ├── 118.0652@109.9\n",
      "    ├── 119.0685@109.2\n",
      "    ├── 122.0786@110.6\n",
      "    ├── 123.082@110.2\n",
      "    ├── 124.0851@110.6\n",
      "    └── 126.0922@110.4\n",
      "\n"
     ]
    }
   ],
   "source": [
    "KP.build_khipu_tree()"
   ]
  },
  {
   "cell_type": "code",
   "execution_count": 20,
   "metadata": {},
   "outputs": [
    {
     "name": "stdout",
     "output_type": "stream",
     "text": [
      "               B2 B2+Acetonitrile B3+NH3 B4+NH3 B3+NH3,HCN B4+NH3,HCOOH\n",
      "M0           F195             F20   F774   F808       F807        F2462\n",
      "13C/12C                       F53          F874                   F2638\n",
      "13C/12C*2                                                              \n",
      "13C/12C*3                                                              \n",
      "13C/12C*4                    F254                                      \n",
      "13C/12C*5                   F3271                                      \n",
      "13C/12C*6   F3398            F396  F1364                               \n",
      "13C/12C*7                                                              \n",
      "13C/12C*8                    F562                                      \n",
      "13C/12C*9                                  F172                   F1250\n",
      "13C/12C*10                                 F207                   F1266\n",
      "13C/12C*11                                                             \n",
      "13C/12C*12                                                             \n"
     ]
    }
   ],
   "source": [
    "# Extended khipu with additional adducts\n",
    "unassigned_peaks = [v for x,v in peak_dict.items() if x not in KP.nodes_to_use]\n",
    "mztree =  build_centurion_tree(unassigned_peaks)\n",
    "KP.extended_search(mztree, extended_adducts)\n",
    "KP.print()"
   ]
  },
  {
   "cell_type": "code",
   "execution_count": 21,
   "metadata": {},
   "outputs": [
    {
     "data": {
      "text/plain": [
       "{'F195': ('M0', 'B2'),\n",
       " 'F3398': ('13C/12C*6', 'B2'),\n",
       " 'F396': ('13C/12C*6', 'B2+Acetonitrile'),\n",
       " 'F3271': ('13C/12C*5', 'B2+Acetonitrile'),\n",
       " 'F20': ('M0', 'B2+Acetonitrile'),\n",
       " 'F254': ('13C/12C*4', 'B2+Acetonitrile'),\n",
       " 'F53': ('13C/12C', 'B2+Acetonitrile'),\n",
       " 'F562': ('13C/12C*8', 'B2+Acetonitrile'),\n",
       " 'F774': ('M0', 'B3+NH3'),\n",
       " 'F1364': ('13C/12C*6', 'B3+NH3'),\n",
       " 'F207': ('13C/12C*10', 'B4+NH3'),\n",
       " 'F874': ('13C/12C', 'B4+NH3'),\n",
       " 'F808': ('M0', 'B4+NH3'),\n",
       " 'F172': ('13C/12C*9', 'B4+NH3'),\n",
       " 'F807': ('M0', 'B3+NH3,HCN'),\n",
       " 'F1266': ('13C/12C*10', 'B4+NH3,HCOOH'),\n",
       " 'F2638': ('13C/12C', 'B4+NH3,HCOOH'),\n",
       " 'F2462': ('M0', 'B4+NH3,HCOOH'),\n",
       " 'F1250': ('13C/12C*9', 'B4+NH3,HCOOH')}"
      ]
     },
     "execution_count": 21,
     "metadata": {},
     "output_type": "execute_result"
    }
   ],
   "source": [
    "KP.annotation_dict"
   ]
  },
  {
   "cell_type": "code",
   "execution_count": 22,
   "metadata": {
    "scrolled": true
   },
   "outputs": [
    {
     "data": {
      "text/html": [
       "<div>\n",
       "<style scoped>\n",
       "    .dataframe tbody tr th:only-of-type {\n",
       "        vertical-align: middle;\n",
       "    }\n",
       "\n",
       "    .dataframe tbody tr th {\n",
       "        vertical-align: top;\n",
       "    }\n",
       "\n",
       "    .dataframe thead th {\n",
       "        text-align: right;\n",
       "    }\n",
       "</style>\n",
       "<table border=\"1\" class=\"dataframe\">\n",
       "  <thead>\n",
       "    <tr style=\"text-align: right;\">\n",
       "      <th></th>\n",
       "      <th>B2</th>\n",
       "      <th>B2+Acetonitrile</th>\n",
       "      <th>B3+NH3</th>\n",
       "      <th>B4+NH3</th>\n",
       "      <th>B3+NH3,HCN</th>\n",
       "      <th>B4+NH3,HCOOH</th>\n",
       "    </tr>\n",
       "  </thead>\n",
       "  <tbody>\n",
       "    <tr>\n",
       "      <td>M0</td>\n",
       "      <td>F195</td>\n",
       "      <td>F20</td>\n",
       "      <td>F774</td>\n",
       "      <td>F808</td>\n",
       "      <td>F807</td>\n",
       "      <td>F2462</td>\n",
       "    </tr>\n",
       "    <tr>\n",
       "      <td>13C/12C</td>\n",
       "      <td></td>\n",
       "      <td>F53</td>\n",
       "      <td></td>\n",
       "      <td>F874</td>\n",
       "      <td></td>\n",
       "      <td>F2638</td>\n",
       "    </tr>\n",
       "    <tr>\n",
       "      <td>13C/12C*2</td>\n",
       "      <td></td>\n",
       "      <td></td>\n",
       "      <td></td>\n",
       "      <td></td>\n",
       "      <td></td>\n",
       "      <td></td>\n",
       "    </tr>\n",
       "    <tr>\n",
       "      <td>13C/12C*3</td>\n",
       "      <td></td>\n",
       "      <td></td>\n",
       "      <td></td>\n",
       "      <td></td>\n",
       "      <td></td>\n",
       "      <td></td>\n",
       "    </tr>\n",
       "    <tr>\n",
       "      <td>13C/12C*4</td>\n",
       "      <td></td>\n",
       "      <td>F254</td>\n",
       "      <td></td>\n",
       "      <td></td>\n",
       "      <td></td>\n",
       "      <td></td>\n",
       "    </tr>\n",
       "    <tr>\n",
       "      <td>13C/12C*5</td>\n",
       "      <td></td>\n",
       "      <td>F3271</td>\n",
       "      <td></td>\n",
       "      <td></td>\n",
       "      <td></td>\n",
       "      <td></td>\n",
       "    </tr>\n",
       "    <tr>\n",
       "      <td>13C/12C*6</td>\n",
       "      <td>F3398</td>\n",
       "      <td>F396</td>\n",
       "      <td>F1364</td>\n",
       "      <td></td>\n",
       "      <td></td>\n",
       "      <td></td>\n",
       "    </tr>\n",
       "    <tr>\n",
       "      <td>13C/12C*7</td>\n",
       "      <td></td>\n",
       "      <td></td>\n",
       "      <td></td>\n",
       "      <td></td>\n",
       "      <td></td>\n",
       "      <td></td>\n",
       "    </tr>\n",
       "    <tr>\n",
       "      <td>13C/12C*8</td>\n",
       "      <td></td>\n",
       "      <td>F562</td>\n",
       "      <td></td>\n",
       "      <td></td>\n",
       "      <td></td>\n",
       "      <td></td>\n",
       "    </tr>\n",
       "    <tr>\n",
       "      <td>13C/12C*9</td>\n",
       "      <td></td>\n",
       "      <td></td>\n",
       "      <td></td>\n",
       "      <td>F172</td>\n",
       "      <td></td>\n",
       "      <td>F1250</td>\n",
       "    </tr>\n",
       "    <tr>\n",
       "      <td>13C/12C*10</td>\n",
       "      <td></td>\n",
       "      <td></td>\n",
       "      <td></td>\n",
       "      <td>F207</td>\n",
       "      <td></td>\n",
       "      <td>F1266</td>\n",
       "    </tr>\n",
       "    <tr>\n",
       "      <td>13C/12C*11</td>\n",
       "      <td></td>\n",
       "      <td></td>\n",
       "      <td></td>\n",
       "      <td></td>\n",
       "      <td></td>\n",
       "      <td></td>\n",
       "    </tr>\n",
       "    <tr>\n",
       "      <td>13C/12C*12</td>\n",
       "      <td></td>\n",
       "      <td></td>\n",
       "      <td></td>\n",
       "      <td></td>\n",
       "      <td></td>\n",
       "      <td></td>\n",
       "    </tr>\n",
       "  </tbody>\n",
       "</table>\n",
       "</div>"
      ],
      "text/plain": [
       "               B2 B2+Acetonitrile B3+NH3 B4+NH3 B3+NH3,HCN B4+NH3,HCOOH\n",
       "M0           F195             F20   F774   F808       F807        F2462\n",
       "13C/12C                       F53          F874                   F2638\n",
       "13C/12C*2                                                              \n",
       "13C/12C*3                                                              \n",
       "13C/12C*4                    F254                                      \n",
       "13C/12C*5                   F3271                                      \n",
       "13C/12C*6   F3398            F396  F1364                               \n",
       "13C/12C*7                                                              \n",
       "13C/12C*8                    F562                                      \n",
       "13C/12C*9                                  F172                   F1250\n",
       "13C/12C*10                                 F207                   F1266\n",
       "13C/12C*11                                                             \n",
       "13C/12C*12                                                             "
      ]
     },
     "execution_count": 22,
     "metadata": {},
     "output_type": "execute_result"
    }
   ],
   "source": [
    "KP.khipu_grid"
   ]
  },
  {
   "cell_type": "code",
   "execution_count": 23,
   "metadata": {},
   "outputs": [
    {
     "data": {
      "image/png": "[encoded data removed]",
      "text/plain": [
       "<Figure size 432x288 with 1 Axes>"
      ]
     },
     "metadata": {
      "needs_background": "light"
     },
     "output_type": "display_data"
    }
   ],
   "source": [
    "KP.plot_khipu_diagram()"
   ]
  },
  {
   "cell_type": "code",
   "execution_count": 24,
   "metadata": {},
   "outputs": [
    {
     "data": {
      "image/png": "[encoded data removed]",
      "text/plain": [
       "<Figure size 432x288 with 1 Axes>"
      ]
     },
     "metadata": {
      "needs_background": "light"
     },
     "output_type": "display_data"
    },
    {
     "data": {
      "image/png": "[encoded data removed]",
      "text/plain": [
       "<Figure size 432x288 with 1 Axes>"
      ]
     },
     "metadata": {
      "needs_background": "light"
     },
     "output_type": "display_data"
    },
    {
     "data": {
      "image/png": "[encoded data removed]",
      "text/plain": [
       "<Figure size 432x288 with 1 Axes>"
      ]
     },
     "metadata": {
      "needs_background": "light"
     },
     "output_type": "display_data"
    },
    {
     "data": {
      "image/png": "[encoded data removed]",
      "text/plain": [
       "<Figure size 432x288 with 1 Axes>"
      ]
     },
     "metadata": {
      "needs_background": "light"
     },
     "output_type": "display_data"
    },
    {
     "data": {
      "image/png": "[encoded data removed]",
      "text/plain": [
       "<Figure size 432x288 with 1 Axes>"
      ]
     },
     "metadata": {
      "needs_background": "light"
     },
     "output_type": "display_data"
    }
   ],
   "source": [
    "# plot a few more\n",
    "\n",
    "for ii in range(8, 13):\n",
    "    KP = khipu(subnetworks[ii], isotope_search_patterns, adduct_search_patterns)\n",
    "    KP.build_khipu(peak_dict)\n",
    "    KP.plot_khipu_diagram()"
   ]
  },
  {
   "cell_type": "markdown",
   "metadata": {},
   "source": [
    "# Summary\n",
    "\n",
    "This notebook demonstrates the internal data structures of khipu and basic visualization plots."
   ]
  }
 ],
 "metadata": {
  "kernelspec": {
   "display_name": "Python 3",
   "language": "python",
   "name": "python3"
  },
  "language_info": {
   "codemirror_mode": {
    "name": "ipython",
    "version": 3
   },
   "file_extension": ".py",
   "mimetype": "text/x-python",
   "name": "python",
   "nbconvert_exporter": "python",
   "pygments_lexer": "ipython3",
   "version": "3.7.3"
  }
 },
 "nbformat": 4,
 "nbformat_minor": 2
}
