{
 "cells": [
  {
   "cell_type": "markdown",
   "metadata": {},
   "source": [
    "# Khipu demo for ecoli_pos data analysis\n",
    "\n",
    "This notebook is run on $docker run -v /Users/shuzhao/play:/home/jovyan -p 8888:8888 jupyter/scipy-notebook\n"
   ]
  },
  {
   "cell_type": "markdown",
   "metadata": {},
   "source": [
    "## Part I. Differential features between 12C and 13C samples\n",
    "\n",
    "The data contain 6 samples, 3 in each group. We first do a t-test to get features that differ between two groups."
   ]
  },
  {
   "cell_type": "code",
   "execution_count": 1,
   "metadata": {},
   "outputs": [],
   "source": [
    "import pandas as pd\n",
    "import numpy as np\n",
    "import matplotlib.pyplot as plt\n",
    "from scipy.stats import ttest_ind"
   ]
  },
  {
   "cell_type": "code",
   "execution_count": 2,
   "metadata": {},
   "outputs": [
    {
     "data": {
      "text/html": [
       "<div>\n",
       "<style scoped>\n",
       "    .dataframe tbody tr th:only-of-type {\n",
       "        vertical-align: middle;\n",
       "    }\n",
       "\n",
       "    .dataframe tbody tr th {\n",
       "        vertical-align: top;\n",
       "    }\n",
       "\n",
       "    .dataframe thead th {\n",
       "        text-align: right;\n",
       "    }\n",
       "</style>\n",
       "<table border=\"1\" class=\"dataframe\">\n",
       "  <thead>\n",
       "    <tr style=\"text-align: right;\">\n",
       "      <th></th>\n",
       "      <th>mz</th>\n",
       "      <th>rtime</th>\n",
       "      <th>12C_Ecoli_20220321_004</th>\n",
       "      <th>12C_Ecoli_20220321_004_20220322095030</th>\n",
       "      <th>12C_Ecoli_20220321_004_20220322130235</th>\n",
       "      <th>13C_Ecoli_20220321_004</th>\n",
       "      <th>13C_Ecoli_20220321_004_20220322132355</th>\n",
       "      <th>13C_Ecoli_20220321_004_20220322101150</th>\n",
       "    </tr>\n",
       "    <tr>\n",
       "      <th>id_number</th>\n",
       "      <th></th>\n",
       "      <th></th>\n",
       "      <th></th>\n",
       "      <th></th>\n",
       "      <th></th>\n",
       "      <th></th>\n",
       "      <th></th>\n",
       "      <th></th>\n",
       "    </tr>\n",
       "  </thead>\n",
       "  <tbody>\n",
       "    <tr>\n",
       "      <td>F1</td>\n",
       "      <td>61.9278</td>\n",
       "      <td>40.94</td>\n",
       "      <td>42543</td>\n",
       "      <td>0</td>\n",
       "      <td>0</td>\n",
       "      <td>43369</td>\n",
       "      <td>60144</td>\n",
       "      <td>57714</td>\n",
       "    </tr>\n",
       "    <tr>\n",
       "      <td>F2</td>\n",
       "      <td>95.9735</td>\n",
       "      <td>125.06</td>\n",
       "      <td>2079328</td>\n",
       "      <td>984349</td>\n",
       "      <td>1314348</td>\n",
       "      <td>1707804</td>\n",
       "      <td>1299125</td>\n",
       "      <td>1159692</td>\n",
       "    </tr>\n",
       "    <tr>\n",
       "      <td>F3</td>\n",
       "      <td>115.9802</td>\n",
       "      <td>11.42</td>\n",
       "      <td>3362695</td>\n",
       "      <td>3228128</td>\n",
       "      <td>4076328</td>\n",
       "      <td>3201740</td>\n",
       "      <td>3942341</td>\n",
       "      <td>3326312</td>\n",
       "    </tr>\n",
       "    <tr>\n",
       "      <td>F4</td>\n",
       "      <td>115.9860</td>\n",
       "      <td>5.83</td>\n",
       "      <td>2035714</td>\n",
       "      <td>1739145</td>\n",
       "      <td>1978764</td>\n",
       "      <td>1977817</td>\n",
       "      <td>2040421</td>\n",
       "      <td>1642861</td>\n",
       "    </tr>\n",
       "    <tr>\n",
       "      <td>F5</td>\n",
       "      <td>115.9860</td>\n",
       "      <td>27.96</td>\n",
       "      <td>182603</td>\n",
       "      <td>219669</td>\n",
       "      <td>248607</td>\n",
       "      <td>199092</td>\n",
       "      <td>185630</td>\n",
       "      <td>185255</td>\n",
       "    </tr>\n",
       "  </tbody>\n",
       "</table>\n",
       "</div>"
      ],
      "text/plain": [
       "                 mz   rtime  12C_Ecoli_20220321_004  \\\n",
       "id_number                                             \n",
       "F1          61.9278   40.94                   42543   \n",
       "F2          95.9735  125.06                 2079328   \n",
       "F3         115.9802   11.42                 3362695   \n",
       "F4         115.9860    5.83                 2035714   \n",
       "F5         115.9860   27.96                  182603   \n",
       "\n",
       "           12C_Ecoli_20220321_004_20220322095030  \\\n",
       "id_number                                          \n",
       "F1                                             0   \n",
       "F2                                        984349   \n",
       "F3                                       3228128   \n",
       "F4                                       1739145   \n",
       "F5                                        219669   \n",
       "\n",
       "           12C_Ecoli_20220321_004_20220322130235  13C_Ecoli_20220321_004  \\\n",
       "id_number                                                                  \n",
       "F1                                             0                   43369   \n",
       "F2                                       1314348                 1707804   \n",
       "F3                                       4076328                 3201740   \n",
       "F4                                       1978764                 1977817   \n",
       "F5                                        248607                  199092   \n",
       "\n",
       "           13C_Ecoli_20220321_004_20220322132355  \\\n",
       "id_number                                          \n",
       "F1                                         60144   \n",
       "F2                                       1299125   \n",
       "F3                                       3942341   \n",
       "F4                                       2040421   \n",
       "F5                                        185630   \n",
       "\n",
       "           13C_Ecoli_20220321_004_20220322101150  \n",
       "id_number                                         \n",
       "F1                                         57714  \n",
       "F2                                       1159692  \n",
       "F3                                       3326312  \n",
       "F4                                       1642861  \n",
       "F5                                        185255  "
      ]
     },
     "execution_count": 2,
     "metadata": {},
     "output_type": "execute_result"
    }
   ],
   "source": [
    "# demo data are at https://github.com/shuzhao-li/khipu/tree/main/testdata/\n",
    "# Have a look via pd\n",
    "ecoli = pd.read_table(\"ecoli_pos.tsv\", index_col=0, sep=\"\\t\")\n",
    "ecoli.head()"
   ]
  },
  {
   "cell_type": "code",
   "execution_count": 3,
   "metadata": {},
   "outputs": [],
   "source": [
    "# t-test of each row between 12C and 13C samples\n",
    "# data are log2 transformed in this test to have more normal distribution; +1 to avoid log2(0)\n",
    "def ttest(row):\n",
    "    t,p = ttest_ind(np.log2(row[3:6]+1), np.log2(row[6:9]+1))\n",
    "    return p\n",
    "\n",
    "pvalues_featurelist = ecoli.apply(ttest, axis=1)"
   ]
  },
  {
   "cell_type": "code",
   "execution_count": 4,
   "metadata": {},
   "outputs": [
    {
     "data": {
      "text/plain": [
       "id_number\n",
       "F1039    4.028376e-13\n",
       "F2201    3.386336e-11\n",
       "F2955    4.471926e-11\n",
       "F1417    1.217689e-10\n",
       "F2675    2.118523e-10\n",
       "F2784    2.630405e-10\n",
       "F2663    8.330401e-10\n",
       "F2930    1.497729e-09\n",
       "F2874    2.037131e-09\n",
       "F3182    2.161996e-09\n",
       "dtype: float64"
      ]
     },
     "execution_count": 4,
     "metadata": {},
     "output_type": "execute_result"
    }
   ],
   "source": [
    "# sort p-values\n",
    "pvalues_featurelist = pvalues_featurelist.sort_values()\n",
    "pvalues_featurelist.head(10)"
   ]
  },
  {
   "cell_type": "code",
   "execution_count": 5,
   "metadata": {},
   "outputs": [
    {
     "data": {
      "text/plain": [
       "(73,)"
      ]
     },
     "execution_count": 5,
     "metadata": {},
     "output_type": "execute_result"
    }
   ],
   "source": [
    "# how many features have p < 0.001\n",
    "pvalues_featurelist[pvalues_featurelist<0.001].shape"
   ]
  },
  {
   "cell_type": "markdown",
   "metadata": {},
   "source": [
    "### Summary\n",
    "We got 73 features in this table that differ between 12C and 13C samples with p < 0.001.\n",
    "\n",
    "We'll next look at their corresponding compound and intensity across ions and samples."
   ]
  },
  {
   "cell_type": "markdown",
   "metadata": {},
   "source": [
    "## Part II. Pre-annotation and plot using khipu"
   ]
  },
  {
   "cell_type": "code",
   "execution_count": 6,
   "metadata": {},
   "outputs": [
    {
     "name": "stdout",
     "output_type": "stream",
     "text": [
      "Requirement already up-to-date: khipu-metabolomics in /opt/conda/lib/python3.7/site-packages (0.4.14)\n",
      "Requirement already satisfied, skipping upgrade: networkx in /opt/conda/lib/python3.7/site-packages (from khipu-metabolomics) (2.3)\n",
      "Requirement already satisfied, skipping upgrade: mass2chem in /opt/conda/lib/python3.7/site-packages (from khipu-metabolomics) (0.4.1)\n",
      "Requirement already satisfied, skipping upgrade: treelib in /opt/conda/lib/python3.7/site-packages (from khipu-metabolomics) (1.6.1)\n",
      "Requirement already satisfied, skipping upgrade: decorator>=4.3.0 in /opt/conda/lib/python3.7/site-packages (from networkx->khipu-metabolomics) (4.4.0)\n",
      "Requirement already satisfied, skipping upgrade: scipy in /opt/conda/lib/python3.7/site-packages (from mass2chem->khipu-metabolomics) (1.3.1)\n",
      "Requirement already satisfied, skipping upgrade: numpy in /opt/conda/lib/python3.7/site-packages (from mass2chem->khipu-metabolomics) (1.17.2)\n",
      "Requirement already satisfied, skipping upgrade: future in /opt/conda/lib/python3.7/site-packages (from treelib->khipu-metabolomics) (0.18.2)\n"
     ]
    }
   ],
   "source": [
    "!pip install --upgrade khipu-metabolomics"
   ]
  },
  {
   "cell_type": "code",
   "execution_count": 7,
   "metadata": {},
   "outputs": [],
   "source": [
    "from khipu.extended import *"
   ]
  },
  {
   "cell_type": "code",
   "execution_count": 8,
   "metadata": {},
   "outputs": [
    {
     "name": "stdout",
     "output_type": "stream",
     "text": [
      "[(21.982, 'Na/H'), (41.026549, 'ACN'), (35.9767, 'HCl'), (37.955882, 'K/H')] \n",
      "\n",
      "[(1.003355, '13C/12C', (0, 0.8)), (2.00671, '13C/12C*2', (0, 0.8)), (3.010065, '13C/12C*3', (0, 0.8)), (4.01342, '13C/12C*4', (0, 0.8)), (5.016775, '13C/12C*5', (0, 0.8)), (6.02013, '13C/12C*6', (0, 0.8)), (7.023485, '13C/12C*7', (0, 0.8)), (8.02684, '13C/12C*8', (0, 0.8)), (9.030195, '13C/12C*9', (0, 0.8)), (10.03355, '13C/12C*10', (0, 0.8)), (11.036905, '13C/12C*11', (0, 0.8)), (12.04026, '13C/12C*12', (0, 0.8))] \n",
      "\n",
      "[(1.0078, 'H'), (-1.0078, '-H'), (10.991, 'Na/H, double charged'), (0.5017, '13C/12C, double charged'), (117.02655, '-NH3'), (17.02655, 'NH3'), (-18.0106, '-H2O'), (18.0106, 'H2O'), (18.033823, 'NH4'), (27.01089904, 'HCN'), (37.94694, 'Ca/H2'), (32.026215, 'MeOH'), (43.96389, 'Na2/H2'), (67.987424, 'NaCOOH'), (83.961361, 'KCOOH'), (97.96737927, 'H2SO4'), (97.97689507, 'H3PO4')] \n",
      "\n"
     ]
    }
   ],
   "source": [
    "# One can redefine the patterns\n",
    "# isotope_search_patterns = isotope_search_patterns[:6]\n",
    "\n",
    "for x in (adduct_search_patterns, isotope_search_patterns, extended_adducts):\n",
    "    print(x, '\\n')\n",
    "    "
   ]
  },
  {
   "cell_type": "code",
   "execution_count": 9,
   "metadata": {},
   "outputs": [
    {
     "name": "stdout",
     "output_type": "stream",
     "text": [
      "table header looks like:  ['id_number', 'mz', 'rtime', '12C_Ecoli_20220321_004', '12C_Ecoli_20220321_004_20220322095030', '12C_Ecoli_20220321_004_20220322130235', '13C_Ecoli_20220321_004', '13C_Ecoli_20220321_004_20220322132355', '13C_Ecoli_20220321_004_20220322101150']\n",
      "Read 3602 feature lines\n"
     ]
    }
   ],
   "source": [
    "# read data via khipu\n",
    "peaklist = read_features_from_text(open(\"ecoli_pos.tsv\").read(),\n",
    "                    id_col=0, mz_col=1, rtime_col=2, intensity_cols=(3, 9), delimiter=\"\\t\")"
   ]
  },
  {
   "cell_type": "code",
   "execution_count": 10,
   "metadata": {},
   "outputs": [
    {
     "data": {
      "text/plain": [
       "{'id': 'F56',\n",
       " 'mz': 97.1013,\n",
       " 'rtime': 66.21,\n",
       " 'intensities': [3138738.0,\n",
       "  2184196.0,\n",
       "  1433236.0,\n",
       "  3032564.0,\n",
       "  1719115.0,\n",
       "  1937016.0],\n",
       " 'representative_intensity': 2240810.8333333335}"
      ]
     },
     "execution_count": 10,
     "metadata": {},
     "output_type": "execute_result"
    }
   ],
   "source": [
    "peaklist[55]"
   ]
  },
  {
   "cell_type": "code",
   "execution_count": 11,
   "metadata": {},
   "outputs": [
    {
     "name": "stdout",
     "output_type": "stream",
     "text": [
      "\n",
      "\n",
      "Initial khipu search grid: \n",
      "                 M+H+       Na/H        HCl        K/H        ACN\n",
      "M0           1.007276  22.989276  36.983976  38.963158  42.033825\n",
      "13C/12C      2.010631  23.992631  37.987331  39.966513  43.037180\n",
      "13C/12C*2    3.013986  24.995986  38.990686  40.969868  44.040535\n",
      "13C/12C*3    4.017341  25.999341  39.994041  41.973223  45.043890\n",
      "13C/12C*4    5.020696  27.002696  40.997396  42.976578  46.047245\n",
      "13C/12C*5    6.024051  28.006051  42.000751  43.979933  47.050600\n",
      "13C/12C*6    7.027406  29.009406  43.004106  44.983288  48.053955\n",
      "13C/12C*7    8.030761  30.012761  44.007461  45.986643  49.057310\n",
      "13C/12C*8    9.034116  31.016116  45.010816  46.989998  50.060665\n",
      "13C/12C*9   10.037471  32.019471  46.014171  47.993353  51.064020\n",
      "13C/12C*10  11.040826  33.022826  47.017526  48.996708  52.067375\n",
      "13C/12C*11  12.044181  34.026181  48.020881  50.000063  53.070730\n",
      "13C/12C*12  13.047536  35.029536  49.024236  51.003418  54.074085\n",
      "\n",
      "\n",
      "Warning no match in isotope_pattern:  16.053999999999988\n",
      "Unknown isotope match ~  (137.1188, 'F292')\n",
      "Warning no match in isotope_pattern:  17.057299999999984\n",
      "Unknown isotope match ~  (138.1221, 'F397')\n",
      "Warning no match in isotope_pattern:  15.050899999999984\n",
      "Unknown isotope match ~  (152.1378, 'F1251')\n",
      "Warning no match in isotope_pattern:  16.05419999999998\n",
      "Unknown isotope match ~  (153.1411, 'F1318')\n",
      "Warning no match in isotope_pattern:  15.050899999999984\n",
      "Unknown isotope match ~  (152.1378, 'F1252')\n",
      "Warning no match in isotope_pattern:  16.05419999999998\n",
      "Unknown isotope match ~  (153.1411, 'F1319')\n",
      "Warning no match in isotope_pattern:  16.0539\n",
      "Unknown isotope match ~  (123.1031, 'F570')\n",
      "Warning no match in isotope_pattern:  13.0428\n",
      "Unknown isotope match ~  (181.1392, 'F1967')\n",
      "Warning no match in isotope_pattern:  17.05710000000002\n",
      "Unknown isotope match ~  (194.1596, 'F1548')\n",
      "Warning no match in isotope_pattern:  13.043700000000001\n",
      "Unknown isotope match ~  (176.0708, 'F1657')\n",
      "Warning no match in isotope_pattern:  16.053000000000026\n",
      "Unknown isotope match ~  (259.0966, 'F3572')\n",
      "Warning no match in isotope_pattern:  15.050000000000011\n",
      "Unknown isotope match ~  (291.1191, 'F3517')\n",
      "Warning no match in isotope_pattern:  26.086900000000014\n",
      "Unknown isotope match ~  (302.156, 'F2566')\n",
      "Warning no match in isotope_pattern:  37.122299999999996\n",
      "Unknown isotope match ~  (313.1914, 'F3577')\n",
      "Warning no match in isotope_pattern:  14.04480000000001\n",
      "Unknown isotope match ~  (320.1205, 'F2769')\n",
      "Warning no match in isotope_pattern:  13.041999999999973\n",
      "Unknown isotope match ~  (347.0852, 'F3097')\n",
      "Warning no match in isotope_pattern:  22.074899999999957\n",
      "Unknown isotope match ~  (344.1819, 'F3403')\n",
      "Warning no match in isotope_pattern:  19.06310000000002\n",
      "Unknown isotope match ~  (294.1329, 'F2385')\n"
     ]
    }
   ],
   "source": [
    "khipu_list, all_assigned_peaks = peaklist_to_khipu_list(peaklist, \n",
    "                    isotope_search_patterns=isotope_search_patterns, \n",
    "                    adduct_search_patterns=adduct_search_patterns,\n",
    "                    mz_tolerance_ppm=5,\n",
    "                    rt_tolerance=2, \n",
    "                    mode='pos')"
   ]
  },
  {
   "cell_type": "code",
   "execution_count": 12,
   "metadata": {},
   "outputs": [
    {
     "data": {
      "text/plain": [
       "(548, 1746)"
      ]
     },
     "execution_count": 12,
     "metadata": {},
     "output_type": "execute_result"
    }
   ],
   "source": [
    "len(khipu_list), len(all_assigned_peaks)"
   ]
  },
  {
   "cell_type": "code",
   "execution_count": 13,
   "metadata": {},
   "outputs": [
    {
     "name": "stdout",
     "output_type": "stream",
     "text": [
      "[(30, 'kp31_114.0549'), (20, 'kp33_116.0479'), (16, 'kp90_103.0165'), (15, 'kp11_123.0222'), (13, 'kp132_187.1686'), (11, 'kp259_284.0943'), (10, 'kp93_127.1233'), (10, 'kp40_136.0998'), (10, 'kp198_231.1861'), (9, 'kp94_129.1024'), (9, 'kp65_123.0318'), (9, 'kp5_122.084'), (9, 'kp2_71.0008'), (9, 'kp211_236.0834'), (8, 'kp201_174.1007'), (7, 'kp54_97.0985'), (7, 'kp357_243.1584'), (7, 'kp284_414.2045'), (7, 'kp139_181.0741'), (7, 'kp135_112.0156'), (7, 'kp10_113.0842'), (7, 'kp100_108.0213'), (6, 'kp309_333.0342'), (6, 'kp308_307.0841'), (6, 'kp29_117.0123'), (6, 'kp291_283.8771'), (6, 'kp266_305.0676'), (6, 'kp224_243.0859'), (6, 'kp177_187.8941'), (6, 'kp172_134.037')]\n"
     ]
    }
   ],
   "source": [
    "ksizes = [\n",
    "    (len(KP.nodes_to_use), KP.id) for KP in khipu_list\n",
    "]\n",
    "ksizes = sorted(ksizes, reverse=True)\n",
    "print(ksizes[:30])"
   ]
  },
  {
   "cell_type": "code",
   "execution_count": 14,
   "metadata": {},
   "outputs": [],
   "source": [
    "# build two dictionary to use.\n",
    "# kpdict indexed by khipu ID, fdict indexed by feature ID\n",
    "kpdict, fdict = {}, {}\n",
    "for KP in khipu_list:\n",
    "    kpdict[KP.id] = KP\n",
    "    for f in KP.nodes_to_use:\n",
    "        fdict[f] = KP"
   ]
  },
  {
   "cell_type": "code",
   "execution_count": 16,
   "metadata": {},
   "outputs": [
    {
     "data": {
      "image/png": "[encoded data removed]",
      "text/plain": [
       "<Figure size 432x288 with 1 Axes>"
      ]
     },
     "metadata": {
      "needs_background": "light"
     },
     "output_type": "display_data"
    }
   ],
   "source": [
    "kpdict['kp11_123.0222'].plot()"
   ]
  },
  {
   "cell_type": "markdown",
   "metadata": {},
   "source": [
    "**Examine the most differential features we got above**"
   ]
  },
  {
   "cell_type": "code",
   "execution_count": 17,
   "metadata": {},
   "outputs": [
    {
     "name": "stdout",
     "output_type": "stream",
     "text": [
      "['F1039', 'F2201', 'F2955', 'F1417', 'F2675', 'F2784', 'F2663', 'F2930', 'F2874', 'F3182', 'F2178', 'F2633', 'F3024', 'F2931', 'F2338', 'F2923', 'F2863', 'F2132', 'F2979', 'F3078', 'F2343', 'F3009', 'F2421', 'F3042', 'F2924', 'F2706', 'F2727', 'F2653', 'F2514', 'F2716', 'F3181', 'F3180', 'F2720', 'F2695', 'F1843', 'F1703', 'F1691', 'F2422', 'F2667', 'F780', 'F3054', 'F1177', 'F2785', 'F2707', 'F2246', 'F2203', 'F2544', 'F894', 'F1833', 'F2303', 'F1191', 'F2946', 'F3103', 'F2711', 'F3031', 'F3364', 'F2987', 'F2247', 'F65', 'F1495', 'F1690', 'F2950', 'F1496', 'F1894', 'F499', 'F3022', 'F2562', 'F390', 'F3362', 'F1508', 'F2572', 'F3102', 'F3494']\n"
     ]
    }
   ],
   "source": [
    "sig = list(pvalues_featurelist[pvalues_featurelist<0.001].index)\n",
    "print(sig)"
   ]
  },
  {
   "cell_type": "code",
   "execution_count": 18,
   "metadata": {},
   "outputs": [
    {
     "name": "stdout",
     "output_type": "stream",
     "text": [
      "25 {'kp167_156.079', 'kp366_327.0911', 'kp246_219.9739', 'kp391_365.0897', 'kp353_202.0414', 'kp240_297.0904', 'kp248_260.1324', 'kp259_284.0943', 'kp232_242.0807', 'kp325_206.0694', 'kp263_306.5779', 'kp303_577.0978', 'kp469_91.5987', 'kp224_243.0859', 'kp371_244.9836', 'kp216_183.0898', 'kp357_243.1584', 'kp279_132.0899', 'kp304_577.5973', 'kp537_326.0325', 'kp433_419.05', 'kp266_305.0676', 'kp276_401.0192', 'kp302_486.3565', 'kp111_146.0691'}\n"
     ]
    }
   ],
   "source": [
    "# get khipu IDs for the above features\n",
    "sig_kps = set([])\n",
    "for x in sig:\n",
    "    if x in fdict:\n",
    "        sig_kps.add( fdict[x].id )\n",
    "\n",
    "print(len(sig_kps), sig_kps)"
   ]
  },
  {
   "cell_type": "code",
   "execution_count": 21,
   "metadata": {},
   "outputs": [
    {
     "name": "stdout",
     "output_type": "stream",
     "text": [
      "kp167_156.079 156.07898886656332\n",
      "             M+H+ Na/H HCl K/H    ACN\n",
      "M0          F1628               F1775\n",
      "13C/12C     F1690                    \n",
      "13C/12C*2                            \n",
      "13C/12C*3                            \n",
      "13C/12C*4                            \n",
      "13C/12C*5                            \n",
      "13C/12C*6                            \n",
      "13C/12C*7                            \n",
      "13C/12C*8                            \n",
      "13C/12C*9                            \n",
      "13C/12C*10                           \n",
      "13C/12C*11                           \n",
      "13C/12C*12                           \n",
      "\n",
      "\n",
      "kp366_327.0911 327.09112603322995\n",
      "            M+H+\n",
      "M0         F3321\n",
      "13C/12C*9  F2979\n",
      "\n",
      "\n",
      "kp246_219.9739 219.97391053323\n",
      "             M+H+ Na/H HCl    K/H ACN M+H+,-H2O\n",
      "M0          F1483           F2496         F2092\n",
      "13C/12C                                        \n",
      "13C/12C*2                                      \n",
      "13C/12C*3                                      \n",
      "13C/12C*4                                      \n",
      "13C/12C*5                   F3362              \n",
      "13C/12C*6                                      \n",
      "13C/12C*7                                      \n",
      "13C/12C*8                                      \n",
      "13C/12C*9                                      \n",
      "13C/12C*10                                     \n",
      "13C/12C*11                                     \n",
      "13C/12C*12                                     \n",
      "\n",
      "\n",
      "kp391_365.0897 365.08974353323\n",
      "             M+H+\n",
      "M0          F3406\n",
      "13C/12C*12  F2675\n",
      "\n",
      "\n",
      "kp353_202.0414 202.04138603322997\n",
      "            M+H+\n",
      "M0         F3285\n",
      "13C/12C*5  F2203\n",
      "\n",
      "\n"
     ]
    }
   ],
   "source": [
    "# show some sig_kps\n",
    "sig_kps = list(sig_kps)\n",
    "for i in sig_kps[:5]:\n",
    "    print(kpdict[i].id, kpdict[i].neutral_mass)\n",
    "    print(kpdict[i].khipu_grid)\n",
    "    print('\\n')"
   ]
  },
  {
   "cell_type": "code",
   "execution_count": 22,
   "metadata": {},
   "outputs": [
    {
     "data": {
      "text/html": [
       "<div>\n",
       "<style scoped>\n",
       "    .dataframe tbody tr th:only-of-type {\n",
       "        vertical-align: middle;\n",
       "    }\n",
       "\n",
       "    .dataframe tbody tr th {\n",
       "        vertical-align: top;\n",
       "    }\n",
       "\n",
       "    .dataframe thead th {\n",
       "        text-align: right;\n",
       "    }\n",
       "</style>\n",
       "<table border=\"1\" class=\"dataframe\">\n",
       "  <thead>\n",
       "    <tr style=\"text-align: right;\">\n",
       "      <th></th>\n",
       "      <th>M+H+</th>\n",
       "      <th>Na/H</th>\n",
       "      <th>HCl</th>\n",
       "      <th>K/H</th>\n",
       "      <th>ACN</th>\n",
       "      <th>M+H+,-H2O</th>\n",
       "    </tr>\n",
       "  </thead>\n",
       "  <tbody>\n",
       "    <tr>\n",
       "      <td>M0</td>\n",
       "      <td>F1483</td>\n",
       "      <td></td>\n",
       "      <td></td>\n",
       "      <td>F2496</td>\n",
       "      <td></td>\n",
       "      <td>F2092</td>\n",
       "    </tr>\n",
       "    <tr>\n",
       "      <td>13C/12C</td>\n",
       "      <td></td>\n",
       "      <td></td>\n",
       "      <td></td>\n",
       "      <td></td>\n",
       "      <td></td>\n",
       "      <td></td>\n",
       "    </tr>\n",
       "    <tr>\n",
       "      <td>13C/12C*2</td>\n",
       "      <td></td>\n",
       "      <td></td>\n",
       "      <td></td>\n",
       "      <td></td>\n",
       "      <td></td>\n",
       "      <td></td>\n",
       "    </tr>\n",
       "    <tr>\n",
       "      <td>13C/12C*3</td>\n",
       "      <td></td>\n",
       "      <td></td>\n",
       "      <td></td>\n",
       "      <td></td>\n",
       "      <td></td>\n",
       "      <td></td>\n",
       "    </tr>\n",
       "    <tr>\n",
       "      <td>13C/12C*4</td>\n",
       "      <td></td>\n",
       "      <td></td>\n",
       "      <td></td>\n",
       "      <td></td>\n",
       "      <td></td>\n",
       "      <td></td>\n",
       "    </tr>\n",
       "    <tr>\n",
       "      <td>13C/12C*5</td>\n",
       "      <td></td>\n",
       "      <td></td>\n",
       "      <td></td>\n",
       "      <td>F3362</td>\n",
       "      <td></td>\n",
       "      <td></td>\n",
       "    </tr>\n",
       "    <tr>\n",
       "      <td>13C/12C*6</td>\n",
       "      <td></td>\n",
       "      <td></td>\n",
       "      <td></td>\n",
       "      <td></td>\n",
       "      <td></td>\n",
       "      <td></td>\n",
       "    </tr>\n",
       "    <tr>\n",
       "      <td>13C/12C*7</td>\n",
       "      <td></td>\n",
       "      <td></td>\n",
       "      <td></td>\n",
       "      <td></td>\n",
       "      <td></td>\n",
       "      <td></td>\n",
       "    </tr>\n",
       "    <tr>\n",
       "      <td>13C/12C*8</td>\n",
       "      <td></td>\n",
       "      <td></td>\n",
       "      <td></td>\n",
       "      <td></td>\n",
       "      <td></td>\n",
       "      <td></td>\n",
       "    </tr>\n",
       "    <tr>\n",
       "      <td>13C/12C*9</td>\n",
       "      <td></td>\n",
       "      <td></td>\n",
       "      <td></td>\n",
       "      <td></td>\n",
       "      <td></td>\n",
       "      <td></td>\n",
       "    </tr>\n",
       "    <tr>\n",
       "      <td>13C/12C*10</td>\n",
       "      <td></td>\n",
       "      <td></td>\n",
       "      <td></td>\n",
       "      <td></td>\n",
       "      <td></td>\n",
       "      <td></td>\n",
       "    </tr>\n",
       "    <tr>\n",
       "      <td>13C/12C*11</td>\n",
       "      <td></td>\n",
       "      <td></td>\n",
       "      <td></td>\n",
       "      <td></td>\n",
       "      <td></td>\n",
       "      <td></td>\n",
       "    </tr>\n",
       "    <tr>\n",
       "      <td>13C/12C*12</td>\n",
       "      <td></td>\n",
       "      <td></td>\n",
       "      <td></td>\n",
       "      <td></td>\n",
       "      <td></td>\n",
       "      <td></td>\n",
       "    </tr>\n",
       "  </tbody>\n",
       "</table>\n",
       "</div>"
      ],
      "text/plain": [
       "             M+H+ Na/H HCl    K/H ACN M+H+,-H2O\n",
       "M0          F1483           F2496         F2092\n",
       "13C/12C                                        \n",
       "13C/12C*2                                      \n",
       "13C/12C*3                                      \n",
       "13C/12C*4                                      \n",
       "13C/12C*5                   F3362              \n",
       "13C/12C*6                                      \n",
       "13C/12C*7                                      \n",
       "13C/12C*8                                      \n",
       "13C/12C*9                                      \n",
       "13C/12C*10                                     \n",
       "13C/12C*11                                     \n",
       "13C/12C*12                                     "
      ]
     },
     "execution_count": 22,
     "metadata": {},
     "output_type": "execute_result"
    }
   ],
   "source": [
    "# closer look \n",
    "kpdict['kp246_219.9739'].khipu_grid"
   ]
  },
  {
   "cell_type": "code",
   "execution_count": 23,
   "metadata": {},
   "outputs": [
    {
     "data": {
      "text/html": [
       "<div>\n",
       "<style scoped>\n",
       "    .dataframe tbody tr th:only-of-type {\n",
       "        vertical-align: middle;\n",
       "    }\n",
       "\n",
       "    .dataframe tbody tr th {\n",
       "        vertical-align: top;\n",
       "    }\n",
       "\n",
       "    .dataframe thead th {\n",
       "        text-align: right;\n",
       "    }\n",
       "</style>\n",
       "<table border=\"1\" class=\"dataframe\">\n",
       "  <thead>\n",
       "    <tr style=\"text-align: right;\">\n",
       "      <th></th>\n",
       "      <th>M+H+</th>\n",
       "      <th>Na/H</th>\n",
       "      <th>HCl</th>\n",
       "      <th>K/H</th>\n",
       "      <th>ACN</th>\n",
       "      <th>M+H+,-H2O</th>\n",
       "    </tr>\n",
       "  </thead>\n",
       "  <tbody>\n",
       "    <tr>\n",
       "      <td>M0</td>\n",
       "      <td>220.982</td>\n",
       "      <td></td>\n",
       "      <td></td>\n",
       "      <td>258.938</td>\n",
       "      <td></td>\n",
       "      <td>202.971</td>\n",
       "    </tr>\n",
       "    <tr>\n",
       "      <td>13C/12C</td>\n",
       "      <td></td>\n",
       "      <td></td>\n",
       "      <td></td>\n",
       "      <td></td>\n",
       "      <td></td>\n",
       "      <td></td>\n",
       "    </tr>\n",
       "    <tr>\n",
       "      <td>13C/12C*2</td>\n",
       "      <td></td>\n",
       "      <td></td>\n",
       "      <td></td>\n",
       "      <td></td>\n",
       "      <td></td>\n",
       "      <td></td>\n",
       "    </tr>\n",
       "    <tr>\n",
       "      <td>13C/12C*3</td>\n",
       "      <td></td>\n",
       "      <td></td>\n",
       "      <td></td>\n",
       "      <td></td>\n",
       "      <td></td>\n",
       "      <td></td>\n",
       "    </tr>\n",
       "    <tr>\n",
       "      <td>13C/12C*4</td>\n",
       "      <td></td>\n",
       "      <td></td>\n",
       "      <td></td>\n",
       "      <td></td>\n",
       "      <td></td>\n",
       "      <td></td>\n",
       "    </tr>\n",
       "    <tr>\n",
       "      <td>13C/12C*5</td>\n",
       "      <td></td>\n",
       "      <td></td>\n",
       "      <td></td>\n",
       "      <td>263.953</td>\n",
       "      <td></td>\n",
       "      <td></td>\n",
       "    </tr>\n",
       "    <tr>\n",
       "      <td>13C/12C*6</td>\n",
       "      <td></td>\n",
       "      <td></td>\n",
       "      <td></td>\n",
       "      <td></td>\n",
       "      <td></td>\n",
       "      <td></td>\n",
       "    </tr>\n",
       "    <tr>\n",
       "      <td>13C/12C*7</td>\n",
       "      <td></td>\n",
       "      <td></td>\n",
       "      <td></td>\n",
       "      <td></td>\n",
       "      <td></td>\n",
       "      <td></td>\n",
       "    </tr>\n",
       "    <tr>\n",
       "      <td>13C/12C*8</td>\n",
       "      <td></td>\n",
       "      <td></td>\n",
       "      <td></td>\n",
       "      <td></td>\n",
       "      <td></td>\n",
       "      <td></td>\n",
       "    </tr>\n",
       "    <tr>\n",
       "      <td>13C/12C*9</td>\n",
       "      <td></td>\n",
       "      <td></td>\n",
       "      <td></td>\n",
       "      <td></td>\n",
       "      <td></td>\n",
       "      <td></td>\n",
       "    </tr>\n",
       "    <tr>\n",
       "      <td>13C/12C*10</td>\n",
       "      <td></td>\n",
       "      <td></td>\n",
       "      <td></td>\n",
       "      <td></td>\n",
       "      <td></td>\n",
       "      <td></td>\n",
       "    </tr>\n",
       "    <tr>\n",
       "      <td>13C/12C*11</td>\n",
       "      <td></td>\n",
       "      <td></td>\n",
       "      <td></td>\n",
       "      <td></td>\n",
       "      <td></td>\n",
       "      <td></td>\n",
       "    </tr>\n",
       "    <tr>\n",
       "      <td>13C/12C*12</td>\n",
       "      <td></td>\n",
       "      <td></td>\n",
       "      <td></td>\n",
       "      <td></td>\n",
       "      <td></td>\n",
       "      <td></td>\n",
       "    </tr>\n",
       "  </tbody>\n",
       "</table>\n",
       "</div>"
      ],
      "text/plain": [
       "               M+H+ Na/H HCl      K/H ACN M+H+,-H2O\n",
       "M0          220.982           258.938       202.971\n",
       "13C/12C                                            \n",
       "13C/12C*2                                          \n",
       "13C/12C*3                                          \n",
       "13C/12C*4                                          \n",
       "13C/12C*5                     263.953              \n",
       "13C/12C*6                                          \n",
       "13C/12C*7                                          \n",
       "13C/12C*8                                          \n",
       "13C/12C*9                                          \n",
       "13C/12C*10                                         \n",
       "13C/12C*11                                         \n",
       "13C/12C*12                                         "
      ]
     },
     "execution_count": 23,
     "metadata": {},
     "output_type": "execute_result"
    }
   ],
   "source": [
    "# m/z view\n",
    "kpdict['kp246_219.9739'].print3()"
   ]
  },
  {
   "cell_type": "code",
   "execution_count": 24,
   "metadata": {},
   "outputs": [
    {
     "name": "stdout",
     "output_type": "stream",
     "text": [
      "kp263_306.5779 306.57791853323\n",
      "            M+H+\n",
      "M0         F3567\n",
      "13C/12C*7  F2716\n",
      "13C/12C*8  F2722\n",
      "13C/12C*9  F2732\n",
      "\n",
      "\n",
      "kp303_577.0978 577.09779603323\n",
      "          M+H+\n",
      "M0       F3009\n",
      "13C/12C  F3019\n",
      "\n",
      "\n",
      "kp469_91.5987 91.59870720009425\n",
      "    M+H+    HCl   ACN M+H+,H2O M+H+,H3PO4 HCl,-H2O\n",
      "M0  F356  F1508  F468     F336      F1423     F320\n",
      "\n",
      "\n",
      "kp224_243.0859 243.0858820335399\n",
      "             M+H+ Na/H HCl    K/H ACN K/H,NaCOOH\n",
      "M0          F3331           F3483               \n",
      "13C/12C     F2158                               \n",
      "13C/12C*2                                       \n",
      "13C/12C*3                                       \n",
      "13C/12C*4                                       \n",
      "13C/12C*5                                       \n",
      "13C/12C*6                                       \n",
      "13C/12C*7                                       \n",
      "13C/12C*8   F2303                               \n",
      "13C/12C*9   F2318           F3472          F2477\n",
      "13C/12C*10                                      \n",
      "13C/12C*11                                      \n",
      "13C/12C*12                                      \n",
      "\n",
      "\n",
      "kp371_244.9836 244.98358603322998\n",
      "            M+H+\n",
      "M0         F3334\n",
      "13C/12C*5  F2246\n",
      "\n",
      "\n",
      "kp216_183.0898 183.08982603323\n",
      "            M+H+ M+H+,H2O\n",
      "M0         F2110         \n",
      "13C/12C*9  F1495    F2374\n",
      "\n",
      "\n",
      "kp357_243.1584 243.15835178323002\n",
      "             M+H+ Na/H    HCl    K/H ACN\n",
      "M0          F3332       F3147  F3181    \n",
      "13C/12C                                 \n",
      "13C/12C*2                               \n",
      "13C/12C*3                               \n",
      "13C/12C*4                               \n",
      "13C/12C*5                               \n",
      "13C/12C*6                               \n",
      "13C/12C*7                               \n",
      "13C/12C*8                               \n",
      "13C/12C*9                               \n",
      "13C/12C*10                              \n",
      "13C/12C*11  F2375                       \n",
      "13C/12C*12                              \n",
      "\n",
      "\n",
      "kp279_132.0899 132.08993603322998\n",
      "            M+H+\n",
      "M0         F2795\n",
      "13C/12C*5   F390\n",
      "\n",
      "\n",
      "kp304_577.5973 577.59734603323\n",
      "          M+H+ M+H+,13C/12C, double charged\n",
      "M0       F3010                             \n",
      "13C/12C  F3022                        F3024\n",
      "\n",
      "\n",
      "kp537_326.0325 326.03247353323\n",
      "     M+H+   Na/H M+H+,NH3\n",
      "M0  F2867  F3103    F3064\n",
      "\n",
      "\n",
      "kp433_419.05 419.05004853323\n",
      "             M+H+\n",
      "M0          F3536\n",
      "13C/12C*10  F2863\n",
      "\n",
      "\n",
      "kp266_305.0676 305.06762253323\n",
      "             M+H+ M+H+,-H2O M+H+,HCN\n",
      "M0          F3551                   \n",
      "13C/12C*4   F3265                   \n",
      "13C/12C*5   F3270              F3353\n",
      "13C/12C*10  F2727     F2453         \n",
      "13C/12C*12  F2757                   \n",
      "\n",
      "\n",
      "kp276_401.0192 401.01917873323\n",
      "             M+H+ Na/H HCl    K/H ACN\n",
      "M0                          F3552    \n",
      "13C/12C     F3504                    \n",
      "13C/12C*2                            \n",
      "13C/12C*3                            \n",
      "13C/12C*4                            \n",
      "13C/12C*5                            \n",
      "13C/12C*6                            \n",
      "13C/12C*7                            \n",
      "13C/12C*8                            \n",
      "13C/12C*9                            \n",
      "13C/12C*10  F2784           F2884    \n",
      "13C/12C*11  F2789                    \n",
      "13C/12C*12                           \n",
      "\n",
      "\n",
      "kp302_486.3565 486.35649603323\n",
      "          M+H+\n",
      "M0       F2955\n",
      "13C/12C  F2961\n",
      "\n",
      "\n",
      "kp111_146.0691 146.06913353323\n",
      "            M+H+\n",
      "M0         F2896\n",
      "13C/12C*3  F1092\n",
      "13C/12C*4  F1177\n",
      "13C/12C*5  F1239\n",
      "\n",
      "\n"
     ]
    }
   ],
   "source": [
    "for i in sig_kps[10: ]:\n",
    "    print(kpdict[i].id, kpdict[i].neutral_mass)\n",
    "    print(kpdict[i].khipu_grid)\n",
    "    print('\\n')"
   ]
  },
  {
   "cell_type": "code",
   "execution_count": 28,
   "metadata": {},
   "outputs": [
    {
     "data": {
      "text/plain": [
       "{'interim_id': 'root@F3331',\n",
       " 'neutral_formula_mass': 243.0858820335399,\n",
       " 'neutral_formula': None,\n",
       " 'Database_referred': [],\n",
       " 'identity': [],\n",
       " 'MS1_pseudo_Spectra': [{'id': 'F3331',\n",
       "   'mz': 244.093,\n",
       "   'rtime': 27.05,\n",
       "   'intensities': [3324402.0, 4072782.0, 3961633.0, 0.0, 0.0, 0.0],\n",
       "   'representative_intensity': 1893136.1666666667,\n",
       "   'parent_masstrack_id': '244.093',\n",
       "   'isotope': 'M0',\n",
       "   'modification': 'M+H+',\n",
       "   'ion_relation': 'M0,M+H+'},\n",
       "  {'id': 'F2303',\n",
       "   'mz': 252.1199,\n",
       "   'rtime': 27.27,\n",
       "   'intensities': [0.0, 0.0, 0.0, 0.0, 526192.0, 744605.0],\n",
       "   'representative_intensity': 211799.5,\n",
       "   'parent_masstrack_id': '252.1199',\n",
       "   'isotope': '13C/12C*8',\n",
       "   'modification': 'M+H+',\n",
       "   'ion_relation': '13C/12C*8,M+H+'},\n",
       "  {'id': 'F3472',\n",
       "   'mz': 291.0793,\n",
       "   'rtime': 27.27,\n",
       "   'intensities': [0.0, 0.0, 0.0, 553698.0, 1014278.0, 1075498.0],\n",
       "   'representative_intensity': 440579.0,\n",
       "   'parent_masstrack_id': '291.0793',\n",
       "   'isotope': '13C/12C*9',\n",
       "   'modification': 'K/H',\n",
       "   'ion_relation': '13C/12C*9,K/H'},\n",
       "  {'id': 'F3483',\n",
       "   'mz': 282.0491,\n",
       "   'rtime': 27.27,\n",
       "   'intensities': [495468.0, 1015145.0, 1119976.0, 0.0, 0.0, 0.0],\n",
       "   'representative_intensity': 438431.5,\n",
       "   'parent_masstrack_id': '282.0491',\n",
       "   'isotope': 'M0',\n",
       "   'modification': 'K/H',\n",
       "   'ion_relation': 'M0,K/H'},\n",
       "  {'id': 'F2318',\n",
       "   'mz': 253.1233,\n",
       "   'rtime': 27.5,\n",
       "   'intensities': [0.0, 0.0, 0.0, 3996975.0, 4208279.0, 4402969.0],\n",
       "   'representative_intensity': 2101370.5,\n",
       "   'parent_masstrack_id': '253.1233',\n",
       "   'isotope': '13C/12C*9',\n",
       "   'modification': 'M+H+',\n",
       "   'ion_relation': '13C/12C*9,M+H+'},\n",
       "  {'id': 'F2158',\n",
       "   'mz': 245.0967,\n",
       "   'rtime': 27.73,\n",
       "   'intensities': [420479.0, 355600.0, 241481.0, 96994.0, 0.0, 55216.0],\n",
       "   'representative_intensity': 194961.66666666666,\n",
       "   'parent_masstrack_id': '245.0967',\n",
       "   'isotope': '13C/12C',\n",
       "   'modification': 'M+H+',\n",
       "   'ion_relation': '13C/12C,M+H+'}],\n",
       " 'MS2_Spectra': []}"
      ]
     },
     "execution_count": 28,
     "metadata": {},
     "output_type": "execute_result"
    }
   ],
   "source": [
    "kpdict['kp224_243.0859'].format_to_epds()"
   ]
  },
  {
   "cell_type": "markdown",
   "metadata": {},
   "source": [
    "**We can extract sample data from khipu and plot in different ways**"
   ]
  },
  {
   "cell_type": "code",
   "execution_count": 29,
   "metadata": {},
   "outputs": [
    {
     "data": {
      "image/png": "[encoded data removed]",
      "text/plain": [
       "<Figure size 432x288 with 1 Axes>"
      ]
     },
     "metadata": {
      "needs_background": "light"
     },
     "output_type": "display_data"
    }
   ],
   "source": [
    "kpdict['kp224_243.0859'].plot()"
   ]
  },
  {
   "cell_type": "markdown",
   "metadata": {},
   "source": [
    "**Bar plot of average intensity per isotope in M+H+**"
   ]
  },
  {
   "cell_type": "code",
   "execution_count": 30,
   "metadata": {},
   "outputs": [
    {
     "data": {
      "text/plain": [
       "<matplotlib.axes._subplots.AxesSubplot at 0x7ff2c03b3b00>"
      ]
     },
     "execution_count": 30,
     "metadata": {},
     "output_type": "execute_result"
    },
    {
     "data": {
      "image/png": "[encoded data removed]",
      "text/plain": [
       "<Figure size 432x288 with 1 Axes>"
      ]
     },
     "metadata": {
      "needs_background": "light"
     },
     "output_type": "display_data"
    }
   ],
   "source": [
    "kpdict['kp224_243.0859'].get_khipu_intensities()['M+H+'].plot.bar()"
   ]
  },
  {
   "cell_type": "markdown",
   "metadata": {},
   "source": [
    "**Bar plot of all 6 samples**"
   ]
  },
  {
   "cell_type": "code",
   "execution_count": 31,
   "metadata": {},
   "outputs": [],
   "source": [
    "sample_labels = ['12C', '12C', '12C', '13C', '13C', '13C']"
   ]
  },
  {
   "cell_type": "code",
   "execution_count": 32,
   "metadata": {},
   "outputs": [],
   "source": [
    "def get_sample_data(kp, ion, sample_labels):\n",
    "    '''kp as khipu instance. Assume sample_labels are in the same order as columns read into khipu instance.\n",
    "    Return dataframe'''\n",
    "    data = []\n",
    "    for ii in range(len(sample_labels)): \n",
    "        tmp = [] \n",
    "        for f in kp.khipu_grid[ion].values:\n",
    "            if f:\n",
    "                tmp.append(kp.feature_dict[f]['intensities'][ii])\n",
    "            else:\n",
    "                tmp.append(0)\n",
    "        data.append(tmp)\n",
    "\n",
    "    return pd.DataFrame(data, \n",
    "                        columns=kp.khipu_grid.index,\n",
    "                        index=sample_labels,\n",
    "                        ).T\n"
   ]
  },
  {
   "cell_type": "code",
   "execution_count": 33,
   "metadata": {},
   "outputs": [
    {
     "data": {
      "text/html": [
       "<div>\n",
       "<style scoped>\n",
       "    .dataframe tbody tr th:only-of-type {\n",
       "        vertical-align: middle;\n",
       "    }\n",
       "\n",
       "    .dataframe tbody tr th {\n",
       "        vertical-align: top;\n",
       "    }\n",
       "\n",
       "    .dataframe thead th {\n",
       "        text-align: right;\n",
       "    }\n",
       "</style>\n",
       "<table border=\"1\" class=\"dataframe\">\n",
       "  <thead>\n",
       "    <tr style=\"text-align: right;\">\n",
       "      <th></th>\n",
       "      <th>12C</th>\n",
       "      <th>12C</th>\n",
       "      <th>12C</th>\n",
       "      <th>13C</th>\n",
       "      <th>13C</th>\n",
       "      <th>13C</th>\n",
       "    </tr>\n",
       "  </thead>\n",
       "  <tbody>\n",
       "    <tr>\n",
       "      <td>M0</td>\n",
       "      <td>3324402.0</td>\n",
       "      <td>4072782.0</td>\n",
       "      <td>3961633.0</td>\n",
       "      <td>0.0</td>\n",
       "      <td>0.0</td>\n",
       "      <td>0.0</td>\n",
       "    </tr>\n",
       "    <tr>\n",
       "      <td>13C/12C</td>\n",
       "      <td>420479.0</td>\n",
       "      <td>355600.0</td>\n",
       "      <td>241481.0</td>\n",
       "      <td>96994.0</td>\n",
       "      <td>0.0</td>\n",
       "      <td>55216.0</td>\n",
       "    </tr>\n",
       "    <tr>\n",
       "      <td>13C/12C*2</td>\n",
       "      <td>0.0</td>\n",
       "      <td>0.0</td>\n",
       "      <td>0.0</td>\n",
       "      <td>0.0</td>\n",
       "      <td>0.0</td>\n",
       "      <td>0.0</td>\n",
       "    </tr>\n",
       "    <tr>\n",
       "      <td>13C/12C*3</td>\n",
       "      <td>0.0</td>\n",
       "      <td>0.0</td>\n",
       "      <td>0.0</td>\n",
       "      <td>0.0</td>\n",
       "      <td>0.0</td>\n",
       "      <td>0.0</td>\n",
       "    </tr>\n",
       "    <tr>\n",
       "      <td>13C/12C*4</td>\n",
       "      <td>0.0</td>\n",
       "      <td>0.0</td>\n",
       "      <td>0.0</td>\n",
       "      <td>0.0</td>\n",
       "      <td>0.0</td>\n",
       "      <td>0.0</td>\n",
       "    </tr>\n",
       "    <tr>\n",
       "      <td>13C/12C*5</td>\n",
       "      <td>0.0</td>\n",
       "      <td>0.0</td>\n",
       "      <td>0.0</td>\n",
       "      <td>0.0</td>\n",
       "      <td>0.0</td>\n",
       "      <td>0.0</td>\n",
       "    </tr>\n",
       "    <tr>\n",
       "      <td>13C/12C*6</td>\n",
       "      <td>0.0</td>\n",
       "      <td>0.0</td>\n",
       "      <td>0.0</td>\n",
       "      <td>0.0</td>\n",
       "      <td>0.0</td>\n",
       "      <td>0.0</td>\n",
       "    </tr>\n",
       "    <tr>\n",
       "      <td>13C/12C*7</td>\n",
       "      <td>0.0</td>\n",
       "      <td>0.0</td>\n",
       "      <td>0.0</td>\n",
       "      <td>0.0</td>\n",
       "      <td>0.0</td>\n",
       "      <td>0.0</td>\n",
       "    </tr>\n",
       "    <tr>\n",
       "      <td>13C/12C*8</td>\n",
       "      <td>0.0</td>\n",
       "      <td>0.0</td>\n",
       "      <td>0.0</td>\n",
       "      <td>0.0</td>\n",
       "      <td>526192.0</td>\n",
       "      <td>744605.0</td>\n",
       "    </tr>\n",
       "    <tr>\n",
       "      <td>13C/12C*9</td>\n",
       "      <td>0.0</td>\n",
       "      <td>0.0</td>\n",
       "      <td>0.0</td>\n",
       "      <td>3996975.0</td>\n",
       "      <td>4208279.0</td>\n",
       "      <td>4402969.0</td>\n",
       "    </tr>\n",
       "    <tr>\n",
       "      <td>13C/12C*10</td>\n",
       "      <td>0.0</td>\n",
       "      <td>0.0</td>\n",
       "      <td>0.0</td>\n",
       "      <td>0.0</td>\n",
       "      <td>0.0</td>\n",
       "      <td>0.0</td>\n",
       "    </tr>\n",
       "    <tr>\n",
       "      <td>13C/12C*11</td>\n",
       "      <td>0.0</td>\n",
       "      <td>0.0</td>\n",
       "      <td>0.0</td>\n",
       "      <td>0.0</td>\n",
       "      <td>0.0</td>\n",
       "      <td>0.0</td>\n",
       "    </tr>\n",
       "    <tr>\n",
       "      <td>13C/12C*12</td>\n",
       "      <td>0.0</td>\n",
       "      <td>0.0</td>\n",
       "      <td>0.0</td>\n",
       "      <td>0.0</td>\n",
       "      <td>0.0</td>\n",
       "      <td>0.0</td>\n",
       "    </tr>\n",
       "  </tbody>\n",
       "</table>\n",
       "</div>"
      ],
      "text/plain": [
       "                  12C        12C        12C        13C        13C        13C\n",
       "M0          3324402.0  4072782.0  3961633.0        0.0        0.0        0.0\n",
       "13C/12C      420479.0   355600.0   241481.0    96994.0        0.0    55216.0\n",
       "13C/12C*2         0.0        0.0        0.0        0.0        0.0        0.0\n",
       "13C/12C*3         0.0        0.0        0.0        0.0        0.0        0.0\n",
       "13C/12C*4         0.0        0.0        0.0        0.0        0.0        0.0\n",
       "13C/12C*5         0.0        0.0        0.0        0.0        0.0        0.0\n",
       "13C/12C*6         0.0        0.0        0.0        0.0        0.0        0.0\n",
       "13C/12C*7         0.0        0.0        0.0        0.0        0.0        0.0\n",
       "13C/12C*8         0.0        0.0        0.0        0.0   526192.0   744605.0\n",
       "13C/12C*9         0.0        0.0        0.0  3996975.0  4208279.0  4402969.0\n",
       "13C/12C*10        0.0        0.0        0.0        0.0        0.0        0.0\n",
       "13C/12C*11        0.0        0.0        0.0        0.0        0.0        0.0\n",
       "13C/12C*12        0.0        0.0        0.0        0.0        0.0        0.0"
      ]
     },
     "execution_count": 33,
     "metadata": {},
     "output_type": "execute_result"
    }
   ],
   "source": [
    "data = get_sample_data(kpdict['kp224_243.0859'], 'M+H+', sample_labels)\n",
    "data"
   ]
  },
  {
   "cell_type": "code",
   "execution_count": 34,
   "metadata": {},
   "outputs": [
    {
     "data": {
      "text/plain": [
       "<matplotlib.axes._subplots.AxesSubplot at 0x7ff2c120c240>"
      ]
     },
     "execution_count": 34,
     "metadata": {},
     "output_type": "execute_result"
    },
    {
     "data": {
      "image/png": "[encoded data removed]",
      "text/plain": [
       "<Figure size 720x288 with 1 Axes>"
      ]
     },
     "metadata": {
      "needs_background": "light"
     },
     "output_type": "display_data"
    }
   ],
   "source": [
    "data.plot(kind='bar', stacked=False, figsize=(10, 4))"
   ]
  },
  {
   "cell_type": "markdown",
   "metadata": {},
   "source": [
    "**The Acetylspermidine example**"
   ]
  },
  {
   "cell_type": "code",
   "execution_count": 35,
   "metadata": {},
   "outputs": [
    {
     "data": {
      "text/html": [
       "<div>\n",
       "<style scoped>\n",
       "    .dataframe tbody tr th:only-of-type {\n",
       "        vertical-align: middle;\n",
       "    }\n",
       "\n",
       "    .dataframe tbody tr th {\n",
       "        vertical-align: top;\n",
       "    }\n",
       "\n",
       "    .dataframe thead th {\n",
       "        text-align: right;\n",
       "    }\n",
       "</style>\n",
       "<table border=\"1\" class=\"dataframe\">\n",
       "  <thead>\n",
       "    <tr style=\"text-align: right;\">\n",
       "      <th></th>\n",
       "      <th>M+H+</th>\n",
       "      <th>Na/H</th>\n",
       "      <th>HCl</th>\n",
       "      <th>K/H</th>\n",
       "      <th>ACN</th>\n",
       "      <th>M+H+,Na2/H2</th>\n",
       "    </tr>\n",
       "  </thead>\n",
       "  <tbody>\n",
       "    <tr>\n",
       "      <td>M0</td>\n",
       "      <td>F2353</td>\n",
       "      <td>F3209</td>\n",
       "      <td></td>\n",
       "      <td>F3269</td>\n",
       "      <td></td>\n",
       "      <td></td>\n",
       "    </tr>\n",
       "    <tr>\n",
       "      <td>13C/12C</td>\n",
       "      <td>F1331</td>\n",
       "      <td></td>\n",
       "      <td></td>\n",
       "      <td></td>\n",
       "      <td></td>\n",
       "      <td></td>\n",
       "    </tr>\n",
       "    <tr>\n",
       "      <td>13C/12C*2</td>\n",
       "      <td>F1397</td>\n",
       "      <td></td>\n",
       "      <td></td>\n",
       "      <td></td>\n",
       "      <td></td>\n",
       "      <td></td>\n",
       "    </tr>\n",
       "    <tr>\n",
       "      <td>13C/12C*3</td>\n",
       "      <td>F1434</td>\n",
       "      <td></td>\n",
       "      <td></td>\n",
       "      <td></td>\n",
       "      <td></td>\n",
       "      <td></td>\n",
       "    </tr>\n",
       "    <tr>\n",
       "      <td>13C/12C*4</td>\n",
       "      <td>F1461</td>\n",
       "      <td></td>\n",
       "      <td></td>\n",
       "      <td></td>\n",
       "      <td></td>\n",
       "      <td></td>\n",
       "    </tr>\n",
       "    <tr>\n",
       "      <td>13C/12C*5</td>\n",
       "      <td>F1507</td>\n",
       "      <td></td>\n",
       "      <td></td>\n",
       "      <td></td>\n",
       "      <td></td>\n",
       "      <td></td>\n",
       "    </tr>\n",
       "    <tr>\n",
       "      <td>13C/12C*6</td>\n",
       "      <td>F1550</td>\n",
       "      <td></td>\n",
       "      <td></td>\n",
       "      <td></td>\n",
       "      <td></td>\n",
       "      <td></td>\n",
       "    </tr>\n",
       "    <tr>\n",
       "      <td>13C/12C*7</td>\n",
       "      <td></td>\n",
       "      <td></td>\n",
       "      <td></td>\n",
       "      <td></td>\n",
       "      <td></td>\n",
       "      <td></td>\n",
       "    </tr>\n",
       "    <tr>\n",
       "      <td>13C/12C*8</td>\n",
       "      <td>F1685</td>\n",
       "      <td></td>\n",
       "      <td></td>\n",
       "      <td></td>\n",
       "      <td></td>\n",
       "      <td>F2000</td>\n",
       "    </tr>\n",
       "    <tr>\n",
       "      <td>13C/12C*9</td>\n",
       "      <td>F1741</td>\n",
       "      <td>F1454</td>\n",
       "      <td></td>\n",
       "      <td>F1883</td>\n",
       "      <td></td>\n",
       "      <td></td>\n",
       "    </tr>\n",
       "    <tr>\n",
       "      <td>13C/12C*10</td>\n",
       "      <td></td>\n",
       "      <td></td>\n",
       "      <td></td>\n",
       "      <td></td>\n",
       "      <td></td>\n",
       "      <td></td>\n",
       "    </tr>\n",
       "    <tr>\n",
       "      <td>13C/12C*11</td>\n",
       "      <td></td>\n",
       "      <td></td>\n",
       "      <td></td>\n",
       "      <td></td>\n",
       "      <td></td>\n",
       "      <td></td>\n",
       "    </tr>\n",
       "    <tr>\n",
       "      <td>13C/12C*12</td>\n",
       "      <td></td>\n",
       "      <td></td>\n",
       "      <td></td>\n",
       "      <td></td>\n",
       "      <td></td>\n",
       "      <td></td>\n",
       "    </tr>\n",
       "  </tbody>\n",
       "</table>\n",
       "</div>"
      ],
      "text/plain": [
       "             M+H+   Na/H HCl    K/H ACN M+H+,Na2/H2\n",
       "M0          F2353  F3209      F3269                \n",
       "13C/12C     F1331                                  \n",
       "13C/12C*2   F1397                                  \n",
       "13C/12C*3   F1434                                  \n",
       "13C/12C*4   F1461                                  \n",
       "13C/12C*5   F1507                                  \n",
       "13C/12C*6   F1550                                  \n",
       "13C/12C*7                                          \n",
       "13C/12C*8   F1685                             F2000\n",
       "13C/12C*9   F1741  F1454      F1883                \n",
       "13C/12C*10                                         \n",
       "13C/12C*11                                         \n",
       "13C/12C*12                                         "
      ]
     },
     "execution_count": 35,
     "metadata": {},
     "output_type": "execute_result"
    }
   ],
   "source": [
    "fdict['F2353'].khipu_grid"
   ]
  },
  {
   "cell_type": "code",
   "execution_count": 36,
   "metadata": {},
   "outputs": [
    {
     "data": {
      "image/png": "[encoded data removed]",
      "text/plain": [
       "<Figure size 432x288 with 1 Axes>"
      ]
     },
     "metadata": {
      "needs_background": "light"
     },
     "output_type": "display_data"
    }
   ],
   "source": [
    "fdict['F2353'].plot()"
   ]
  },
  {
   "cell_type": "code",
   "execution_count": 37,
   "metadata": {},
   "outputs": [
    {
     "data": {
      "image/png": "[encoded data removed]",
      "text/plain": [
       "<Figure size 720x288 with 1 Axes>"
      ]
     },
     "metadata": {
      "needs_background": "light"
     },
     "output_type": "display_data"
    }
   ],
   "source": [
    "KP2353=fdict['F2353']\n",
    "data = get_sample_data(KP2353, 'M+H+', sample_labels)\n",
    "fig = data.plot(kind='bar', stacked=False, width=0.7, figsize=(10, 4))\n",
    "f = fig.get_figure()\n",
    "f.tight_layout()\n",
    "f.savefig('KP2353_samples.pdf')"
   ]
  },
  {
   "cell_type": "code",
   "execution_count": 38,
   "metadata": {},
   "outputs": [
    {
     "data": {
      "text/plain": [
       "187.16862014861462"
      ]
     },
     "execution_count": 38,
     "metadata": {},
     "output_type": "execute_result"
    }
   ],
   "source": [
    "KP2353.neutral_mass\n",
    "# HMDB matches to N1 or N8- Acetylspermidine\tC9H21N3O\t187.1685"
   ]
  },
  {
   "cell_type": "code",
   "execution_count": 39,
   "metadata": {},
   "outputs": [
    {
     "data": {
      "image/png": "[encoded data removed]",
      "text/plain": [
       "<Figure size 432x288 with 1 Axes>"
      ]
     },
     "metadata": {
      "needs_background": "light"
     },
     "output_type": "display_data"
    }
   ],
   "source": [
    "plot_khipugram(KP2353.get_khipu_intensities(), savepdf='khipugram_F2353.pdf')"
   ]
  },
  {
   "cell_type": "markdown",
   "metadata": {},
   "source": [
    "## Summary\n",
    "\n",
    "Pre-annotation by khipu allow us to use standard data science tools on isotope tracing metabolomics data. \n",
    "\n",
    "User can further filter for preferred isotope patterns and apply custom models."
   ]
  }
 ],
 "metadata": {
  "kernelspec": {
   "display_name": "Python 3",
   "language": "python",
   "name": "python3"
  },
  "language_info": {
   "codemirror_mode": {
    "name": "ipython",
    "version": 3
   },
   "file_extension": ".py",
   "mimetype": "text/x-python",
   "name": "python",
   "nbconvert_exporter": "python",
   "pygments_lexer": "ipython3",
   "version": "3.7.3"
  }
 },
 "nbformat": 4,
 "nbformat_minor": 2
}
